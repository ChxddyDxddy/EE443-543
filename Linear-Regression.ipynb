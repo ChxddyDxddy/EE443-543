{
  "cells": [
    {
      "cell_type": "markdown",
      "id": "18156290",
      "metadata": {
        "id": "18156290"
      },
      "source": [
        "\n",
        "# Linear Regression\n",
        "\n",
        "<a target=\"_blank\" href=\"https://colab.research.google.com/github/mayankbakshi/EE443-543/blob/main/Linear-Regression.ipynb?authuser=5\">\n",
        "<img src=\"https://colab.research.google.com/assets/colab-badge.svg\" alt=\"Open In Colab\"/>\n",
        "</a>\n"
      ]
    },
    {
      "cell_type": "markdown",
      "id": "7c62aa70",
      "metadata": {
        "id": "7c62aa70"
      },
      "source": [
        "## Importing packages\n",
        "We import our standard libraries at this top\n",
        "level."
      ]
    },
    {
      "cell_type": "code",
      "execution_count": 8,
      "id": "c5fcfd8f",
      "metadata": {
        "execution": {
          "iopub.execute_input": "2024-06-04T23:19:06.947153Z",
          "iopub.status.busy": "2024-06-04T23:19:06.946906Z",
          "iopub.status.idle": "2024-06-04T23:19:07.382217Z",
          "shell.execute_reply": "2024-06-04T23:19:07.381975Z"
        },
        "lines_to_next_cell": 2,
        "id": "c5fcfd8f"
      },
      "outputs": [],
      "source": [
        "import numpy as np\n",
        "import pandas as pd\n",
        "from matplotlib.pyplot import subplots\n"
      ]
    },
    {
      "cell_type": "code",
      "source": [
        "print('Hello this is an edit')"
      ],
      "metadata": {
        "id": "Bb2DF9nuYmEO",
        "outputId": "b7361abe-a39f-46cb-b520-00eb75857f17",
        "colab": {
          "base_uri": "https://localhost:8080/"
        }
      },
      "id": "Bb2DF9nuYmEO",
      "execution_count": 2,
      "outputs": [
        {
          "output_type": "stream",
          "name": "stdout",
          "text": [
            "Hello this is an edit\n"
          ]
        }
      ]
    },
    {
      "cell_type": "markdown",
      "id": "bc3e353a",
      "metadata": {
        "id": "bc3e353a"
      },
      "source": [
        "### New imports\n",
        "Throughout this lab we will introduce new functions and libraries. However,\n",
        "we will import them here to emphasize these are the new\n",
        "code objects in this lab. Keeping imports near the top\n",
        "of a notebook makes the code more readable, since scanning the first few\n",
        "lines tells us what libraries are used."
      ]
    },
    {
      "cell_type": "code",
      "execution_count": 9,
      "id": "42cfb62e",
      "metadata": {
        "execution": {
          "iopub.execute_input": "2024-06-04T23:19:07.383806Z",
          "iopub.status.busy": "2024-06-04T23:19:07.383707Z",
          "iopub.status.idle": "2024-06-04T23:19:07.847757Z",
          "shell.execute_reply": "2024-06-04T23:19:07.847487Z"
        },
        "lines_to_next_cell": 0,
        "id": "42cfb62e"
      },
      "outputs": [],
      "source": [
        "import statsmodels.api as sm\n"
      ]
    },
    {
      "cell_type": "markdown",
      "id": "dd7ce405",
      "metadata": {
        "id": "dd7ce405"
      },
      "source": [
        " We will provide relevant details about the\n",
        "functions below as they are needed.\n",
        "\n",
        "Besides importing whole modules, it is also possible\n",
        "to import only a few items from a given module. This\n",
        "will help keep the  *namespace* clean.\n",
        "We will use a few specific objects from the `statsmodels` package\n",
        "which we import here."
      ]
    },
    {
      "cell_type": "code",
      "execution_count": 10,
      "id": "b387d3ac",
      "metadata": {
        "execution": {
          "iopub.execute_input": "2024-06-04T23:19:07.849417Z",
          "iopub.status.busy": "2024-06-04T23:19:07.849298Z",
          "iopub.status.idle": "2024-06-04T23:19:07.851636Z",
          "shell.execute_reply": "2024-06-04T23:19:07.851436Z"
        },
        "id": "b387d3ac"
      },
      "outputs": [],
      "source": [
        "from statsmodels.stats.outliers_influence \\\n",
        "     import variance_inflation_factor as VIF\n",
        "from statsmodels.stats.anova import anova_lm\n"
      ]
    },
    {
      "cell_type": "markdown",
      "id": "b4713b12",
      "metadata": {
        "id": "b4713b12"
      },
      "source": [
        "As one of the import statements above is quite a long line, we inserted a line break `\\` to\n",
        "ease readability.\n",
        "\n",
        "We will also use some functions written for the labs in this book in the `ISLP`\n",
        "package."
      ]
    },
    {
      "cell_type": "code",
      "execution_count": 11,
      "id": "307b7e22",
      "metadata": {
        "execution": {
          "iopub.execute_input": "2024-06-04T23:19:07.852868Z",
          "iopub.status.busy": "2024-06-04T23:19:07.852785Z",
          "iopub.status.idle": "2024-06-04T23:19:07.979269Z",
          "shell.execute_reply": "2024-06-04T23:19:07.978990Z"
        },
        "id": "307b7e22",
        "outputId": "09e60ad1-51ac-44f2-829b-2d1e08fb0b2a",
        "colab": {
          "base_uri": "https://localhost:8080/",
          "height": 366
        }
      },
      "outputs": [
        {
          "output_type": "error",
          "ename": "ModuleNotFoundError",
          "evalue": "No module named 'ISLP'",
          "traceback": [
            "\u001b[0;31m---------------------------------------------------------------------------\u001b[0m",
            "\u001b[0;31mModuleNotFoundError\u001b[0m                       Traceback (most recent call last)",
            "\u001b[0;32m/tmp/ipython-input-2776706457.py\u001b[0m in \u001b[0;36m<cell line: 0>\u001b[0;34m()\u001b[0m\n\u001b[0;32m----> 1\u001b[0;31m \u001b[0;32mfrom\u001b[0m \u001b[0mISLP\u001b[0m \u001b[0;32mimport\u001b[0m \u001b[0mload_data\u001b[0m\u001b[0;34m\u001b[0m\u001b[0;34m\u001b[0m\u001b[0m\n\u001b[0m\u001b[1;32m      2\u001b[0m from ISLP.models import (ModelSpec as MS,\n\u001b[1;32m      3\u001b[0m                          \u001b[0msummarize\u001b[0m\u001b[0;34m,\u001b[0m\u001b[0;34m\u001b[0m\u001b[0;34m\u001b[0m\u001b[0m\n\u001b[1;32m      4\u001b[0m                          poly)\n",
            "\u001b[0;31mModuleNotFoundError\u001b[0m: No module named 'ISLP'",
            "",
            "\u001b[0;31m---------------------------------------------------------------------------\u001b[0;32m\nNOTE: If your import is failing due to a missing package, you can\nmanually install dependencies using either !pip or !apt.\n\nTo view examples of installing some common dependencies, click the\n\"Open Examples\" button below.\n\u001b[0;31m---------------------------------------------------------------------------\u001b[0m\n"
          ],
          "errorDetails": {
            "actions": [
              {
                "action": "open_url",
                "actionText": "Open Examples",
                "url": "/notebooks/snippets/importing_libraries.ipynb"
              }
            ]
          }
        }
      ],
      "source": [
        "from ISLP import load_data\n",
        "from ISLP.models import (ModelSpec as MS,\n",
        "                         summarize,\n",
        "                         poly)\n"
      ]
    },
    {
      "cell_type": "markdown",
      "id": "81d778fb",
      "metadata": {
        "id": "81d778fb"
      },
      "source": [
        "### Inspecting Objects and Namespaces\n",
        "The\n",
        "function  `dir()`\n",
        "provides a list of\n",
        "objects in a namespace."
      ]
    },
    {
      "cell_type": "code",
      "execution_count": null,
      "id": "79099069",
      "metadata": {
        "execution": {
          "iopub.execute_input": "2024-06-04T23:19:07.981106Z",
          "iopub.status.busy": "2024-06-04T23:19:07.980941Z",
          "iopub.status.idle": "2024-06-04T23:19:07.983820Z",
          "shell.execute_reply": "2024-06-04T23:19:07.983580Z"
        },
        "lines_to_next_cell": 0,
        "id": "79099069",
        "outputId": "ae10c991-0d49-44da-e65e-7d5f096eb74b"
      },
      "outputs": [
        {
          "data": {
            "text/plain": [
              "['In',\n",
              " 'MS',\n",
              " 'Out',\n",
              " 'VIF',\n",
              " '_',\n",
              " '_2',\n",
              " '__',\n",
              " '__DW_SCOPE__',\n",
              " '___',\n",
              " '__builtin__',\n",
              " '__builtins__',\n",
              " '__doc__',\n",
              " '__loader__',\n",
              " '__name__',\n",
              " '__package__',\n",
              " '__spec__',\n",
              " '__vsc_ipynb_file__',\n",
              " '_dh',\n",
              " '_i',\n",
              " '_i1',\n",
              " '_i2',\n",
              " '_i3',\n",
              " '_i4',\n",
              " '_i5',\n",
              " '_ih',\n",
              " '_ii',\n",
              " '_iii',\n",
              " '_oh',\n",
              " 'anova_lm',\n",
              " 'exit',\n",
              " 'get_ipython',\n",
              " 'load_data',\n",
              " 'np',\n",
              " 'pd',\n",
              " 'poly',\n",
              " 'quit',\n",
              " 'sm',\n",
              " 'subplots',\n",
              " 'summarize']"
            ]
          },
          "execution_count": 5,
          "metadata": {},
          "output_type": "execute_result"
        }
      ],
      "source": [
        "dir()\n"
      ]
    },
    {
      "cell_type": "markdown",
      "id": "237f9711",
      "metadata": {
        "id": "237f9711"
      },
      "source": [
        " This shows you everything that `Python` can find at the top level.\n",
        "There are certain objects like `__builtins__` that contain references to built-in\n",
        "functions like `print()`.\n",
        "\n",
        "Every python object has its own notion of\n",
        "namespace, also accessible with `dir()`. This will include\n",
        "both the attributes of the object\n",
        "as well as any methods associated with it. For instance, we see `'sum'` in the listing for an\n",
        "array."
      ]
    },
    {
      "cell_type": "code",
      "execution_count": null,
      "id": "3f99195f",
      "metadata": {
        "execution": {
          "iopub.execute_input": "2024-06-04T23:19:07.985095Z",
          "iopub.status.busy": "2024-06-04T23:19:07.985002Z",
          "iopub.status.idle": "2024-06-04T23:19:07.987401Z",
          "shell.execute_reply": "2024-06-04T23:19:07.987190Z"
        },
        "lines_to_next_cell": 0,
        "id": "3f99195f",
        "outputId": "25367b44-29cb-4cae-df47-0ee7d8b2d64e"
      },
      "outputs": [
        {
          "data": {
            "text/plain": [
              "['T',\n",
              " '__abs__',\n",
              " '__add__',\n",
              " '__and__',\n",
              " '__array__',\n",
              " '__array_finalize__',\n",
              " '__array_function__',\n",
              " '__array_interface__',\n",
              " '__array_prepare__',\n",
              " '__array_priority__',\n",
              " '__array_struct__',\n",
              " '__array_ufunc__',\n",
              " '__array_wrap__',\n",
              " '__bool__',\n",
              " '__class__',\n",
              " '__complex__',\n",
              " '__contains__',\n",
              " '__copy__',\n",
              " '__deepcopy__',\n",
              " '__delattr__',\n",
              " '__delitem__',\n",
              " '__dir__',\n",
              " '__divmod__',\n",
              " '__doc__',\n",
              " '__eq__',\n",
              " '__float__',\n",
              " '__floordiv__',\n",
              " '__format__',\n",
              " '__ge__',\n",
              " '__getattribute__',\n",
              " '__getitem__',\n",
              " '__gt__',\n",
              " '__hash__',\n",
              " '__iadd__',\n",
              " '__iand__',\n",
              " '__ifloordiv__',\n",
              " '__ilshift__',\n",
              " '__imatmul__',\n",
              " '__imod__',\n",
              " '__imul__',\n",
              " '__index__',\n",
              " '__init__',\n",
              " '__init_subclass__',\n",
              " '__int__',\n",
              " '__invert__',\n",
              " '__ior__',\n",
              " '__ipow__',\n",
              " '__irshift__',\n",
              " '__isub__',\n",
              " '__iter__',\n",
              " '__itruediv__',\n",
              " '__ixor__',\n",
              " '__le__',\n",
              " '__len__',\n",
              " '__lshift__',\n",
              " '__lt__',\n",
              " '__matmul__',\n",
              " '__mod__',\n",
              " '__mul__',\n",
              " '__ne__',\n",
              " '__neg__',\n",
              " '__new__',\n",
              " '__or__',\n",
              " '__pos__',\n",
              " '__pow__',\n",
              " '__radd__',\n",
              " '__rand__',\n",
              " '__rdivmod__',\n",
              " '__reduce__',\n",
              " '__reduce_ex__',\n",
              " '__repr__',\n",
              " '__rfloordiv__',\n",
              " '__rlshift__',\n",
              " '__rmatmul__',\n",
              " '__rmod__',\n",
              " '__rmul__',\n",
              " '__ror__',\n",
              " '__rpow__',\n",
              " '__rrshift__',\n",
              " '__rshift__',\n",
              " '__rsub__',\n",
              " '__rtruediv__',\n",
              " '__rxor__',\n",
              " '__setattr__',\n",
              " '__setitem__',\n",
              " '__setstate__',\n",
              " '__sizeof__',\n",
              " '__str__',\n",
              " '__sub__',\n",
              " '__subclasshook__',\n",
              " '__truediv__',\n",
              " '__xor__',\n",
              " 'all',\n",
              " 'any',\n",
              " 'argmax',\n",
              " 'argmin',\n",
              " 'argpartition',\n",
              " 'argsort',\n",
              " 'astype',\n",
              " 'base',\n",
              " 'byteswap',\n",
              " 'choose',\n",
              " 'clip',\n",
              " 'compress',\n",
              " 'conj',\n",
              " 'conjugate',\n",
              " 'copy',\n",
              " 'ctypes',\n",
              " 'cumprod',\n",
              " 'cumsum',\n",
              " 'data',\n",
              " 'diagonal',\n",
              " 'dot',\n",
              " 'dtype',\n",
              " 'dump',\n",
              " 'dumps',\n",
              " 'fill',\n",
              " 'flags',\n",
              " 'flat',\n",
              " 'flatten',\n",
              " 'getfield',\n",
              " 'imag',\n",
              " 'item',\n",
              " 'itemset',\n",
              " 'itemsize',\n",
              " 'max',\n",
              " 'mean',\n",
              " 'min',\n",
              " 'nbytes',\n",
              " 'ndim',\n",
              " 'newbyteorder',\n",
              " 'nonzero',\n",
              " 'partition',\n",
              " 'prod',\n",
              " 'ptp',\n",
              " 'put',\n",
              " 'ravel',\n",
              " 'real',\n",
              " 'repeat',\n",
              " 'reshape',\n",
              " 'resize',\n",
              " 'round',\n",
              " 'searchsorted',\n",
              " 'setfield',\n",
              " 'setflags',\n",
              " 'shape',\n",
              " 'size',\n",
              " 'sort',\n",
              " 'squeeze',\n",
              " 'std',\n",
              " 'strides',\n",
              " 'sum',\n",
              " 'swapaxes',\n",
              " 'take',\n",
              " 'tobytes',\n",
              " 'tofile',\n",
              " 'tolist',\n",
              " 'tostring',\n",
              " 'trace',\n",
              " 'transpose',\n",
              " 'var',\n",
              " 'view']"
            ]
          },
          "execution_count": 6,
          "metadata": {},
          "output_type": "execute_result"
        }
      ],
      "source": [
        "A = np.array([3,5,11])\n",
        "dir(A)\n"
      ]
    },
    {
      "cell_type": "markdown",
      "id": "9d776f61",
      "metadata": {
        "id": "9d776f61"
      },
      "source": [
        " This indicates that the object `A.sum` exists. In this case it is a method\n",
        "that can be used to compute the sum of the array `A` as can be seen by typing `A.sum?`."
      ]
    },
    {
      "cell_type": "code",
      "execution_count": null,
      "id": "f3f913ca",
      "metadata": {
        "execution": {
          "iopub.execute_input": "2024-06-04T23:19:07.988574Z",
          "iopub.status.busy": "2024-06-04T23:19:07.988481Z",
          "iopub.status.idle": "2024-06-04T23:19:07.990266Z",
          "shell.execute_reply": "2024-06-04T23:19:07.990078Z"
        },
        "lines_to_next_cell": 0,
        "id": "f3f913ca",
        "outputId": "27936c5c-fe91-44ac-c51e-de4208a7076b"
      },
      "outputs": [
        {
          "data": {
            "text/plain": [
              "19"
            ]
          },
          "execution_count": 7,
          "metadata": {},
          "output_type": "execute_result"
        }
      ],
      "source": [
        "A.sum()\n"
      ]
    },
    {
      "cell_type": "markdown",
      "id": "974fad08",
      "metadata": {
        "id": "974fad08"
      },
      "source": [
        "    "
      ]
    },
    {
      "cell_type": "markdown",
      "id": "0b212f1f",
      "metadata": {
        "id": "0b212f1f"
      },
      "source": [
        "## Simple Linear Regression\n",
        "In this section we will  construct model\n",
        "matrices (also called design matrices) using the `ModelSpec()`  transform from `ISLP.models`.\n",
        "\n",
        "We  will use the `Boston` housing data set, which is contained in the `ISLP` package.  The `Boston` dataset records  `medv`  (median house value) for $506$ neighborhoods\n",
        "around Boston.  We will build a regression model to predict  `medv`  using $13$\n",
        "predictors such as  `rmvar`  (average number of rooms per house),\n",
        " `age`  (proportion of owner-occupied units built prior to 1940), and  `lstat`  (percent of\n",
        "households with low socioeconomic status).  We will use `statsmodels` for this\n",
        "task, a `Python` package that implements several commonly used\n",
        "regression methods.\n",
        "\n",
        "We have included a simple loading function `load_data()` in the\n",
        "`ISLP` package:"
      ]
    },
    {
      "cell_type": "code",
      "execution_count": null,
      "id": "d720e2c5",
      "metadata": {
        "execution": {
          "iopub.execute_input": "2024-06-04T23:19:07.991415Z",
          "iopub.status.busy": "2024-06-04T23:19:07.991335Z",
          "iopub.status.idle": "2024-06-04T23:19:07.995566Z",
          "shell.execute_reply": "2024-06-04T23:19:07.995348Z"
        },
        "id": "d720e2c5",
        "outputId": "362301e8-1d95-46f3-fed7-182d230bb0b1"
      },
      "outputs": [
        {
          "data": {
            "text/plain": [
              "Index(['crim', 'zn', 'indus', 'chas', 'nox', 'rm', 'age', 'dis', 'rad', 'tax',\n",
              "       'ptratio', 'lstat', 'medv'],\n",
              "      dtype='object')"
            ]
          },
          "execution_count": 8,
          "metadata": {},
          "output_type": "execute_result"
        }
      ],
      "source": [
        "Boston = load_data(\"Boston\")\n",
        "Boston.columns\n"
      ]
    },
    {
      "cell_type": "markdown",
      "id": "27b9c8f5",
      "metadata": {
        "id": "27b9c8f5"
      },
      "source": [
        "Type `Boston?` to find out more about these data.\n",
        "\n",
        "We start by using the `sm.OLS()`  function to fit a\n",
        "simple linear regression model.  Our response will be\n",
        " `medv`  and  `lstat`  will be the single predictor.\n",
        "For this model, we can create the model matrix by hand.\n"
      ]
    },
    {
      "cell_type": "code",
      "execution_count": null,
      "id": "95e541df",
      "metadata": {
        "id": "95e541df"
      },
      "outputs": [],
      "source": [
        "Boston?"
      ]
    },
    {
      "cell_type": "markdown",
      "id": "32cabb75",
      "metadata": {
        "id": "32cabb75"
      },
      "source": [
        "# Go to https://islp.readthedocs.io/en/latest/datasets/Boston.html to look deeper into the dataset"
      ]
    },
    {
      "cell_type": "code",
      "execution_count": null,
      "id": "40e9b0d5",
      "metadata": {
        "execution": {
          "iopub.execute_input": "2024-06-04T23:19:07.996720Z",
          "iopub.status.busy": "2024-06-04T23:19:07.996648Z",
          "iopub.status.idle": "2024-06-04T23:19:08.000848Z",
          "shell.execute_reply": "2024-06-04T23:19:08.000660Z"
        },
        "id": "40e9b0d5",
        "outputId": "e76594ae-a28f-48a8-e8bd-e2cb108e7485"
      },
      "outputs": [
        {
          "data": {
            "application/vnd.microsoft.datawrangler.viewer.v0+json": {
              "columns": [
                {
                  "name": "index",
                  "rawType": "int64",
                  "type": "integer"
                },
                {
                  "name": "intercept",
                  "rawType": "float64",
                  "type": "float"
                },
                {
                  "name": "lstat",
                  "rawType": "float64",
                  "type": "float"
                }
              ],
              "ref": "0fe8d8e6-3eed-4cdf-adc1-1f405a6c186c",
              "rows": [
                [
                  "0",
                  "1.0",
                  "4.98"
                ],
                [
                  "1",
                  "1.0",
                  "9.14"
                ],
                [
                  "2",
                  "1.0",
                  "4.03"
                ],
                [
                  "3",
                  "1.0",
                  "2.94"
                ]
              ],
              "shape": {
                "columns": 2,
                "rows": 4
              }
            },
            "text/html": [
              "<div>\n",
              "<style scoped>\n",
              "    .dataframe tbody tr th:only-of-type {\n",
              "        vertical-align: middle;\n",
              "    }\n",
              "\n",
              "    .dataframe tbody tr th {\n",
              "        vertical-align: top;\n",
              "    }\n",
              "\n",
              "    .dataframe thead th {\n",
              "        text-align: right;\n",
              "    }\n",
              "</style>\n",
              "<table border=\"1\" class=\"dataframe\">\n",
              "  <thead>\n",
              "    <tr style=\"text-align: right;\">\n",
              "      <th></th>\n",
              "      <th>intercept</th>\n",
              "      <th>lstat</th>\n",
              "    </tr>\n",
              "  </thead>\n",
              "  <tbody>\n",
              "    <tr>\n",
              "      <th>0</th>\n",
              "      <td>1.0</td>\n",
              "      <td>4.98</td>\n",
              "    </tr>\n",
              "    <tr>\n",
              "      <th>1</th>\n",
              "      <td>1.0</td>\n",
              "      <td>9.14</td>\n",
              "    </tr>\n",
              "    <tr>\n",
              "      <th>2</th>\n",
              "      <td>1.0</td>\n",
              "      <td>4.03</td>\n",
              "    </tr>\n",
              "    <tr>\n",
              "      <th>3</th>\n",
              "      <td>1.0</td>\n",
              "      <td>2.94</td>\n",
              "    </tr>\n",
              "  </tbody>\n",
              "</table>\n",
              "</div>"
            ],
            "text/plain": [
              "   intercept  lstat\n",
              "0        1.0   4.98\n",
              "1        1.0   9.14\n",
              "2        1.0   4.03\n",
              "3        1.0   2.94"
            ]
          },
          "execution_count": 31,
          "metadata": {},
          "output_type": "execute_result"
        }
      ],
      "source": [
        "X = pd.DataFrame({'intercept': np.ones(Boston.shape[0]),\n",
        "                  'lstat': Boston['lstat']})\n",
        "X[:4]\n"
      ]
    },
    {
      "cell_type": "markdown",
      "id": "3de7037d",
      "metadata": {
        "id": "3de7037d"
      },
      "source": [
        "# *EXERCISE: Create and display a scatter plot depicting the relation betweeen 'medv' and 'lstat' in the Boston dataset*"
      ]
    },
    {
      "cell_type": "code",
      "execution_count": null,
      "id": "38fcc52c",
      "metadata": {
        "id": "38fcc52c"
      },
      "outputs": [],
      "source": [
        "#Insert exercise solution here\n",
        "\n"
      ]
    },
    {
      "cell_type": "markdown",
      "id": "77ed4d6c",
      "metadata": {
        "id": "77ed4d6c"
      },
      "source": [
        "# *EXERCISE: Create and display a scatter plot depicting the relation betweeen 'medv' and one other feature in the Boston dataset*"
      ]
    },
    {
      "cell_type": "code",
      "execution_count": null,
      "id": "142d94df",
      "metadata": {
        "id": "142d94df"
      },
      "outputs": [],
      "source": [
        "#Insert exercise solution here\n",
        "\n"
      ]
    },
    {
      "cell_type": "markdown",
      "id": "162d93ef",
      "metadata": {
        "id": "162d93ef"
      },
      "source": [
        "We extract the response, and fit the model."
      ]
    },
    {
      "cell_type": "code",
      "execution_count": null,
      "id": "c1d544d6",
      "metadata": {
        "execution": {
          "iopub.execute_input": "2024-06-04T23:19:08.002003Z",
          "iopub.status.busy": "2024-06-04T23:19:08.001934Z",
          "iopub.status.idle": "2024-06-04T23:19:08.003890Z",
          "shell.execute_reply": "2024-06-04T23:19:08.003673Z"
        },
        "lines_to_next_cell": 0,
        "id": "c1d544d6"
      },
      "outputs": [],
      "source": [
        "y = Boston['medv']\n",
        "model = sm.OLS(y, X)\n",
        "results = model.fit()\n"
      ]
    },
    {
      "cell_type": "markdown",
      "id": "2a1d62f2",
      "metadata": {
        "id": "2a1d62f2"
      },
      "source": [
        "Note that `sm.OLS()` does\n",
        "not fit the model; it specifies the model, and then `model.fit()` does the actual fitting.  \n",
        "\n",
        "Our `ISLP` function `summarize()` produces a simple table of the parameter estimates,\n",
        "their standard errors, t-statistics and p-values.\n",
        "The function takes a single argument, such as the object `results`\n",
        "returned here by the `fit`\n",
        "method, and returns such a summary."
      ]
    },
    {
      "cell_type": "code",
      "execution_count": null,
      "id": "3d340a07",
      "metadata": {
        "execution": {
          "iopub.execute_input": "2024-06-04T23:19:08.004988Z",
          "iopub.status.busy": "2024-06-04T23:19:08.004916Z",
          "iopub.status.idle": "2024-06-04T23:19:08.018774Z",
          "shell.execute_reply": "2024-06-04T23:19:08.018578Z"
        },
        "lines_to_next_cell": 2,
        "id": "3d340a07",
        "outputId": "102d3d6e-aa97-40ec-a7b0-47b98157e4f6"
      },
      "outputs": [
        {
          "data": {
            "application/vnd.microsoft.datawrangler.viewer.v0+json": {
              "columns": [
                {
                  "name": "index",
                  "rawType": "object",
                  "type": "string"
                },
                {
                  "name": "coef",
                  "rawType": "float64",
                  "type": "float"
                },
                {
                  "name": "std err",
                  "rawType": "float64",
                  "type": "float"
                },
                {
                  "name": "t",
                  "rawType": "float64",
                  "type": "float"
                },
                {
                  "name": "P>|t|",
                  "rawType": "float64",
                  "type": "float"
                }
              ],
              "ref": "9faeb484-6446-4eb6-9423-a2a6bc9a761d",
              "rows": [
                [
                  "intercept",
                  "34.5538",
                  "0.563",
                  "61.415",
                  "0.0"
                ],
                [
                  "lstat",
                  "-0.95",
                  "0.039",
                  "-24.528",
                  "0.0"
                ]
              ],
              "shape": {
                "columns": 4,
                "rows": 2
              }
            },
            "text/html": [
              "<div>\n",
              "<style scoped>\n",
              "    .dataframe tbody tr th:only-of-type {\n",
              "        vertical-align: middle;\n",
              "    }\n",
              "\n",
              "    .dataframe tbody tr th {\n",
              "        vertical-align: top;\n",
              "    }\n",
              "\n",
              "    .dataframe thead th {\n",
              "        text-align: right;\n",
              "    }\n",
              "</style>\n",
              "<table border=\"1\" class=\"dataframe\">\n",
              "  <thead>\n",
              "    <tr style=\"text-align: right;\">\n",
              "      <th></th>\n",
              "      <th>coef</th>\n",
              "      <th>std err</th>\n",
              "      <th>t</th>\n",
              "      <th>P&gt;|t|</th>\n",
              "    </tr>\n",
              "  </thead>\n",
              "  <tbody>\n",
              "    <tr>\n",
              "      <th>intercept</th>\n",
              "      <td>34.5538</td>\n",
              "      <td>0.563</td>\n",
              "      <td>61.415</td>\n",
              "      <td>0.0</td>\n",
              "    </tr>\n",
              "    <tr>\n",
              "      <th>lstat</th>\n",
              "      <td>-0.9500</td>\n",
              "      <td>0.039</td>\n",
              "      <td>-24.528</td>\n",
              "      <td>0.0</td>\n",
              "    </tr>\n",
              "  </tbody>\n",
              "</table>\n",
              "</div>"
            ],
            "text/plain": [
              "              coef  std err       t  P>|t|\n",
              "intercept  34.5538    0.563  61.415    0.0\n",
              "lstat      -0.9500    0.039 -24.528    0.0"
            ]
          },
          "execution_count": 33,
          "metadata": {},
          "output_type": "execute_result"
        }
      ],
      "source": [
        "summarize(results)\n"
      ]
    },
    {
      "cell_type": "markdown",
      "id": "31d6b202",
      "metadata": {
        "id": "31d6b202"
      },
      "source": [
        "Before we describe other methods for working with fitted models, we outline a more useful and general framework for constructing a model matrix~`X`.\n",
        "### Using Transformations: Fit and Transform\n",
        "Our model above has a single predictor, and constructing `X` was straightforward.\n",
        "In practice  we often fit models with more than one predictor, typically selected from an array or data frame.\n",
        "We may wish to introduce transformations to the variables before fitting the model, specify interactions between variables, and expand some particular variables into sets of variables (e.g. polynomials).\n",
        "The `sklearn`  package has a particular notion\n",
        "for this type of task: a *transform*. A transform is an object\n",
        "that is created with some parameters as arguments. The\n",
        "object has two main methods: `fit()` and `transform()`.\n",
        "\n",
        "We provide a general approach for specifying models and constructing\n",
        "the model matrix through the transform `ModelSpec()` in the `ISLP` library.\n",
        "`ModelSpec()`\n",
        "(renamed `MS()` in the preamble) creates a\n",
        "transform object, and then a pair of methods\n",
        "`transform()` and `fit()` are used to construct a\n",
        "corresponding model matrix.\n",
        "\n",
        "We first describe this process for our simple regression model  using a single predictor `lstat` in\n",
        "the `Boston` data frame, but will use it repeatedly in more\n",
        "complex tasks in this and other labs in this book.\n",
        "In our case the transform is created by the expression\n",
        "`design = MS(['lstat'])`.\n",
        "\n",
        "The `fit()`  method takes the original array and may do some\n",
        "initial computations on it, as specified in the transform object.\n",
        "For example, it may compute means and standard deviations for centering and scaling.\n",
        "The `transform()`\n",
        "method applies the fitted transformation to the array of data, and produces the model matrix.\n"
      ]
    },
    {
      "cell_type": "code",
      "execution_count": null,
      "id": "11b07af0",
      "metadata": {
        "execution": {
          "iopub.execute_input": "2024-06-04T23:19:08.019954Z",
          "iopub.status.busy": "2024-06-04T23:19:08.019865Z",
          "iopub.status.idle": "2024-06-04T23:19:08.024711Z",
          "shell.execute_reply": "2024-06-04T23:19:08.024511Z"
        },
        "lines_to_next_cell": 0,
        "id": "11b07af0",
        "outputId": "8ce91f21-99ce-4323-d4d8-61fc4ab33f59"
      },
      "outputs": [
        {
          "data": {
            "application/vnd.microsoft.datawrangler.viewer.v0+json": {
              "columns": [
                {
                  "name": "index",
                  "rawType": "int64",
                  "type": "integer"
                },
                {
                  "name": "intercept",
                  "rawType": "float64",
                  "type": "float"
                },
                {
                  "name": "lstat",
                  "rawType": "float64",
                  "type": "float"
                }
              ],
              "ref": "ab0c02b1-a7c6-408e-a8c8-32cdbca295fd",
              "rows": [
                [
                  "0",
                  "1.0",
                  "4.98"
                ],
                [
                  "1",
                  "1.0",
                  "9.14"
                ],
                [
                  "2",
                  "1.0",
                  "4.03"
                ],
                [
                  "3",
                  "1.0",
                  "2.94"
                ]
              ],
              "shape": {
                "columns": 2,
                "rows": 4
              }
            },
            "text/html": [
              "<div>\n",
              "<style scoped>\n",
              "    .dataframe tbody tr th:only-of-type {\n",
              "        vertical-align: middle;\n",
              "    }\n",
              "\n",
              "    .dataframe tbody tr th {\n",
              "        vertical-align: top;\n",
              "    }\n",
              "\n",
              "    .dataframe thead th {\n",
              "        text-align: right;\n",
              "    }\n",
              "</style>\n",
              "<table border=\"1\" class=\"dataframe\">\n",
              "  <thead>\n",
              "    <tr style=\"text-align: right;\">\n",
              "      <th></th>\n",
              "      <th>intercept</th>\n",
              "      <th>lstat</th>\n",
              "    </tr>\n",
              "  </thead>\n",
              "  <tbody>\n",
              "    <tr>\n",
              "      <th>0</th>\n",
              "      <td>1.0</td>\n",
              "      <td>4.98</td>\n",
              "    </tr>\n",
              "    <tr>\n",
              "      <th>1</th>\n",
              "      <td>1.0</td>\n",
              "      <td>9.14</td>\n",
              "    </tr>\n",
              "    <tr>\n",
              "      <th>2</th>\n",
              "      <td>1.0</td>\n",
              "      <td>4.03</td>\n",
              "    </tr>\n",
              "    <tr>\n",
              "      <th>3</th>\n",
              "      <td>1.0</td>\n",
              "      <td>2.94</td>\n",
              "    </tr>\n",
              "  </tbody>\n",
              "</table>\n",
              "</div>"
            ],
            "text/plain": [
              "   intercept  lstat\n",
              "0        1.0   4.98\n",
              "1        1.0   9.14\n",
              "2        1.0   4.03\n",
              "3        1.0   2.94"
            ]
          },
          "execution_count": 34,
          "metadata": {},
          "output_type": "execute_result"
        }
      ],
      "source": [
        "design = MS(['lstat'])\n",
        "design = design.fit(Boston)\n",
        "X = design.transform(Boston)\n",
        "X[:4]"
      ]
    },
    {
      "cell_type": "markdown",
      "id": "f35e5292",
      "metadata": {
        "id": "f35e5292"
      },
      "source": [
        "In this simple case, the `fit()`  method does very little; it simply checks that the variable `'lstat'` specified in `design` exists in `Boston`. Then `transform()` constructs the model matrix with two columns: an `intercept` and the variable `lstat`.\n",
        "\n",
        "These two operations can be  combined with the\n",
        "`fit_transform()`  method."
      ]
    },
    {
      "cell_type": "code",
      "execution_count": null,
      "id": "d5c7b370",
      "metadata": {
        "execution": {
          "iopub.execute_input": "2024-06-04T23:19:08.025839Z",
          "iopub.status.busy": "2024-06-04T23:19:08.025769Z",
          "iopub.status.idle": "2024-06-04T23:19:08.030216Z",
          "shell.execute_reply": "2024-06-04T23:19:08.030007Z"
        },
        "lines_to_next_cell": 0,
        "id": "d5c7b370",
        "outputId": "2168d966-da05-489f-92cf-50cabd42e583"
      },
      "outputs": [
        {
          "data": {
            "application/vnd.microsoft.datawrangler.viewer.v0+json": {
              "columns": [
                {
                  "name": "index",
                  "rawType": "int64",
                  "type": "integer"
                },
                {
                  "name": "intercept",
                  "rawType": "float64",
                  "type": "float"
                },
                {
                  "name": "lstat",
                  "rawType": "float64",
                  "type": "float"
                }
              ],
              "ref": "a1fec70f-6eda-46df-971e-4b902fc7ae0f",
              "rows": [
                [
                  "0",
                  "1.0",
                  "4.98"
                ],
                [
                  "1",
                  "1.0",
                  "9.14"
                ],
                [
                  "2",
                  "1.0",
                  "4.03"
                ],
                [
                  "3",
                  "1.0",
                  "2.94"
                ]
              ],
              "shape": {
                "columns": 2,
                "rows": 4
              }
            },
            "text/html": [
              "<div>\n",
              "<style scoped>\n",
              "    .dataframe tbody tr th:only-of-type {\n",
              "        vertical-align: middle;\n",
              "    }\n",
              "\n",
              "    .dataframe tbody tr th {\n",
              "        vertical-align: top;\n",
              "    }\n",
              "\n",
              "    .dataframe thead th {\n",
              "        text-align: right;\n",
              "    }\n",
              "</style>\n",
              "<table border=\"1\" class=\"dataframe\">\n",
              "  <thead>\n",
              "    <tr style=\"text-align: right;\">\n",
              "      <th></th>\n",
              "      <th>intercept</th>\n",
              "      <th>lstat</th>\n",
              "    </tr>\n",
              "  </thead>\n",
              "  <tbody>\n",
              "    <tr>\n",
              "      <th>0</th>\n",
              "      <td>1.0</td>\n",
              "      <td>4.98</td>\n",
              "    </tr>\n",
              "    <tr>\n",
              "      <th>1</th>\n",
              "      <td>1.0</td>\n",
              "      <td>9.14</td>\n",
              "    </tr>\n",
              "    <tr>\n",
              "      <th>2</th>\n",
              "      <td>1.0</td>\n",
              "      <td>4.03</td>\n",
              "    </tr>\n",
              "    <tr>\n",
              "      <th>3</th>\n",
              "      <td>1.0</td>\n",
              "      <td>2.94</td>\n",
              "    </tr>\n",
              "  </tbody>\n",
              "</table>\n",
              "</div>"
            ],
            "text/plain": [
              "   intercept  lstat\n",
              "0        1.0   4.98\n",
              "1        1.0   9.14\n",
              "2        1.0   4.03\n",
              "3        1.0   2.94"
            ]
          },
          "execution_count": 35,
          "metadata": {},
          "output_type": "execute_result"
        }
      ],
      "source": [
        "design = MS(['lstat'])\n",
        "X = design.fit_transform(Boston)\n",
        "X[:4]"
      ]
    },
    {
      "cell_type": "markdown",
      "id": "8f09689d",
      "metadata": {
        "id": "8f09689d"
      },
      "source": [
        "Note that, as in the previous code chunk when the two steps were done separately, the `design` object is changed as a result of the `fit()` operation. The power of this pipeline will become clearer when we fit more complex models that involve interactions and transformations."
      ]
    },
    {
      "cell_type": "markdown",
      "id": "94a7c0aa",
      "metadata": {
        "id": "94a7c0aa"
      },
      "source": [
        "Let's return to our fitted regression model.\n",
        "The object\n",
        "`results` has several methods that can be used for inference.\n",
        "We already presented a function `summarize()` for showing the essentials of the fit.\n",
        "For a full and somewhat exhaustive summary of the fit, we can use the `summary()`\n",
        "method."
      ]
    },
    {
      "cell_type": "code",
      "execution_count": null,
      "id": "5b205c0b",
      "metadata": {
        "execution": {
          "iopub.execute_input": "2024-06-04T23:19:08.031520Z",
          "iopub.status.busy": "2024-06-04T23:19:08.031448Z",
          "iopub.status.idle": "2024-06-04T23:19:08.039162Z",
          "shell.execute_reply": "2024-06-04T23:19:08.038952Z"
        },
        "id": "5b205c0b",
        "outputId": "55073654-aee4-4621-c7d6-eb3eced3c4d1"
      },
      "outputs": [
        {
          "data": {
            "text/html": [
              "<table class=\"simpletable\">\n",
              "<caption>OLS Regression Results</caption>\n",
              "<tr>\n",
              "  <th>Dep. Variable:</th>          <td>medv</td>       <th>  R-squared:         </th> <td>   0.544</td>\n",
              "</tr>\n",
              "<tr>\n",
              "  <th>Model:</th>                   <td>OLS</td>       <th>  Adj. R-squared:    </th> <td>   0.543</td>\n",
              "</tr>\n",
              "<tr>\n",
              "  <th>Method:</th>             <td>Least Squares</td>  <th>  F-statistic:       </th> <td>   601.6</td>\n",
              "</tr>\n",
              "<tr>\n",
              "  <th>Date:</th>             <td>Wed, 27 Aug 2025</td> <th>  Prob (F-statistic):</th> <td>5.08e-88</td>\n",
              "</tr>\n",
              "<tr>\n",
              "  <th>Time:</th>                 <td>13:08:03</td>     <th>  Log-Likelihood:    </th> <td> -1641.5</td>\n",
              "</tr>\n",
              "<tr>\n",
              "  <th>No. Observations:</th>      <td>   506</td>      <th>  AIC:               </th> <td>   3287.</td>\n",
              "</tr>\n",
              "<tr>\n",
              "  <th>Df Residuals:</th>          <td>   504</td>      <th>  BIC:               </th> <td>   3295.</td>\n",
              "</tr>\n",
              "<tr>\n",
              "  <th>Df Model:</th>              <td>     1</td>      <th>                     </th>     <td> </td>   \n",
              "</tr>\n",
              "<tr>\n",
              "  <th>Covariance Type:</th>      <td>nonrobust</td>    <th>                     </th>     <td> </td>   \n",
              "</tr>\n",
              "</table>\n",
              "<table class=\"simpletable\">\n",
              "<tr>\n",
              "      <td></td>         <th>coef</th>     <th>std err</th>      <th>t</th>      <th>P>|t|</th>  <th>[0.025</th>    <th>0.975]</th>  \n",
              "</tr>\n",
              "<tr>\n",
              "  <th>intercept</th> <td>   34.5538</td> <td>    0.563</td> <td>   61.415</td> <td> 0.000</td> <td>   33.448</td> <td>   35.659</td>\n",
              "</tr>\n",
              "<tr>\n",
              "  <th>lstat</th>     <td>   -0.9500</td> <td>    0.039</td> <td>  -24.528</td> <td> 0.000</td> <td>   -1.026</td> <td>   -0.874</td>\n",
              "</tr>\n",
              "</table>\n",
              "<table class=\"simpletable\">\n",
              "<tr>\n",
              "  <th>Omnibus:</th>       <td>137.043</td> <th>  Durbin-Watson:     </th> <td>   0.892</td>\n",
              "</tr>\n",
              "<tr>\n",
              "  <th>Prob(Omnibus):</th> <td> 0.000</td>  <th>  Jarque-Bera (JB):  </th> <td> 291.373</td>\n",
              "</tr>\n",
              "<tr>\n",
              "  <th>Skew:</th>          <td> 1.453</td>  <th>  Prob(JB):          </th> <td>5.36e-64</td>\n",
              "</tr>\n",
              "<tr>\n",
              "  <th>Kurtosis:</th>      <td> 5.319</td>  <th>  Cond. No.          </th> <td>    29.7</td>\n",
              "</tr>\n",
              "</table><br/><br/>Notes:<br/>[1] Standard Errors assume that the covariance matrix of the errors is correctly specified."
            ],
            "text/plain": [
              "<class 'statsmodels.iolib.summary.Summary'>\n",
              "\"\"\"\n",
              "                            OLS Regression Results                            \n",
              "==============================================================================\n",
              "Dep. Variable:                   medv   R-squared:                       0.544\n",
              "Model:                            OLS   Adj. R-squared:                  0.543\n",
              "Method:                 Least Squares   F-statistic:                     601.6\n",
              "Date:                Wed, 27 Aug 2025   Prob (F-statistic):           5.08e-88\n",
              "Time:                        13:08:03   Log-Likelihood:                -1641.5\n",
              "No. Observations:                 506   AIC:                             3287.\n",
              "Df Residuals:                     504   BIC:                             3295.\n",
              "Df Model:                           1                                         \n",
              "Covariance Type:            nonrobust                                         \n",
              "==============================================================================\n",
              "                 coef    std err          t      P>|t|      [0.025      0.975]\n",
              "------------------------------------------------------------------------------\n",
              "intercept     34.5538      0.563     61.415      0.000      33.448      35.659\n",
              "lstat         -0.9500      0.039    -24.528      0.000      -1.026      -0.874\n",
              "==============================================================================\n",
              "Omnibus:                      137.043   Durbin-Watson:                   0.892\n",
              "Prob(Omnibus):                  0.000   Jarque-Bera (JB):              291.373\n",
              "Skew:                           1.453   Prob(JB):                     5.36e-64\n",
              "Kurtosis:                       5.319   Cond. No.                         29.7\n",
              "==============================================================================\n",
              "\n",
              "Notes:\n",
              "[1] Standard Errors assume that the covariance matrix of the errors is correctly specified.\n",
              "\"\"\""
            ]
          },
          "execution_count": 36,
          "metadata": {},
          "output_type": "execute_result"
        }
      ],
      "source": [
        "results.summary()\n"
      ]
    },
    {
      "cell_type": "markdown",
      "id": "6c30baa4",
      "metadata": {
        "id": "6c30baa4"
      },
      "source": [
        "The fitted coefficients can also be retrieved as the\n",
        "`params` attribute of `results`."
      ]
    },
    {
      "cell_type": "code",
      "execution_count": null,
      "id": "4b024467",
      "metadata": {
        "execution": {
          "iopub.execute_input": "2024-06-04T23:19:08.040404Z",
          "iopub.status.busy": "2024-06-04T23:19:08.040333Z",
          "iopub.status.idle": "2024-06-04T23:19:08.042402Z",
          "shell.execute_reply": "2024-06-04T23:19:08.042202Z"
        },
        "lines_to_next_cell": 2,
        "id": "4b024467",
        "outputId": "fdd85425-ff04-419b-991c-6a27fb67fe58"
      },
      "outputs": [
        {
          "data": {
            "application/vnd.microsoft.datawrangler.viewer.v0+json": {
              "columns": [
                {
                  "name": "index",
                  "rawType": "object",
                  "type": "string"
                },
                {
                  "name": "0",
                  "rawType": "float64",
                  "type": "float"
                }
              ],
              "ref": "37ef483f-e873-4f58-a849-842bcc9e076d",
              "rows": [
                [
                  "intercept",
                  "34.5538408793831"
                ],
                [
                  "lstat",
                  "-0.950049353757991"
                ]
              ],
              "shape": {
                "columns": 1,
                "rows": 2
              }
            },
            "text/plain": [
              "intercept    34.553841\n",
              "lstat        -0.950049\n",
              "dtype: float64"
            ]
          },
          "execution_count": 37,
          "metadata": {},
          "output_type": "execute_result"
        }
      ],
      "source": [
        "results.params\n"
      ]
    },
    {
      "cell_type": "markdown",
      "id": "fb7bbd4c",
      "metadata": {
        "id": "fb7bbd4c"
      },
      "source": [
        "The `get_prediction()`  method can be used to obtain predictions, and produce confidence intervals and\n",
        "prediction intervals for the prediction of  `medv`  for  given values of  `lstat`.\n",
        "\n",
        "We first create a new data frame, in this case containing only the variable `lstat`, with the values for this variable at which we wish to make predictions.\n",
        "We then use the `transform()` method of `design` to create the corresponding model matrix."
      ]
    },
    {
      "cell_type": "code",
      "execution_count": null,
      "id": "195e0ace",
      "metadata": {
        "execution": {
          "iopub.execute_input": "2024-06-04T23:19:08.043693Z",
          "iopub.status.busy": "2024-06-04T23:19:08.043622Z",
          "iopub.status.idle": "2024-06-04T23:19:08.046777Z",
          "shell.execute_reply": "2024-06-04T23:19:08.046559Z"
        },
        "id": "195e0ace",
        "outputId": "cc8c1781-7a8b-457f-8f52-be398cfb070a"
      },
      "outputs": [
        {
          "data": {
            "application/vnd.microsoft.datawrangler.viewer.v0+json": {
              "columns": [
                {
                  "name": "index",
                  "rawType": "int64",
                  "type": "integer"
                },
                {
                  "name": "intercept",
                  "rawType": "float64",
                  "type": "float"
                },
                {
                  "name": "lstat",
                  "rawType": "int64",
                  "type": "integer"
                }
              ],
              "ref": "8c98fa3a-2039-44c1-ab52-67c3aae1bd0e",
              "rows": [
                [
                  "0",
                  "1.0",
                  "5"
                ],
                [
                  "1",
                  "1.0",
                  "10"
                ],
                [
                  "2",
                  "1.0",
                  "15"
                ]
              ],
              "shape": {
                "columns": 2,
                "rows": 3
              }
            },
            "text/html": [
              "<div>\n",
              "<style scoped>\n",
              "    .dataframe tbody tr th:only-of-type {\n",
              "        vertical-align: middle;\n",
              "    }\n",
              "\n",
              "    .dataframe tbody tr th {\n",
              "        vertical-align: top;\n",
              "    }\n",
              "\n",
              "    .dataframe thead th {\n",
              "        text-align: right;\n",
              "    }\n",
              "</style>\n",
              "<table border=\"1\" class=\"dataframe\">\n",
              "  <thead>\n",
              "    <tr style=\"text-align: right;\">\n",
              "      <th></th>\n",
              "      <th>intercept</th>\n",
              "      <th>lstat</th>\n",
              "    </tr>\n",
              "  </thead>\n",
              "  <tbody>\n",
              "    <tr>\n",
              "      <th>0</th>\n",
              "      <td>1.0</td>\n",
              "      <td>5</td>\n",
              "    </tr>\n",
              "    <tr>\n",
              "      <th>1</th>\n",
              "      <td>1.0</td>\n",
              "      <td>10</td>\n",
              "    </tr>\n",
              "    <tr>\n",
              "      <th>2</th>\n",
              "      <td>1.0</td>\n",
              "      <td>15</td>\n",
              "    </tr>\n",
              "  </tbody>\n",
              "</table>\n",
              "</div>"
            ],
            "text/plain": [
              "   intercept  lstat\n",
              "0        1.0      5\n",
              "1        1.0     10\n",
              "2        1.0     15"
            ]
          },
          "execution_count": 38,
          "metadata": {},
          "output_type": "execute_result"
        }
      ],
      "source": [
        "new_df = pd.DataFrame({'lstat':[5, 10, 15]})\n",
        "newX = design.transform(new_df)\n",
        "newX\n"
      ]
    },
    {
      "cell_type": "markdown",
      "id": "43565f15",
      "metadata": {
        "id": "43565f15"
      },
      "source": [
        "Next we compute the predictions at `newX`, and view them by extracting the `predicted_mean` attribute."
      ]
    },
    {
      "cell_type": "code",
      "execution_count": null,
      "id": "768374f6",
      "metadata": {
        "execution": {
          "iopub.execute_input": "2024-06-04T23:19:08.047996Z",
          "iopub.status.busy": "2024-06-04T23:19:08.047918Z",
          "iopub.status.idle": "2024-06-04T23:19:08.049956Z",
          "shell.execute_reply": "2024-06-04T23:19:08.049747Z"
        },
        "lines_to_next_cell": 0,
        "id": "768374f6",
        "outputId": "a3ab9454-a69d-4666-821e-6486bf29f08d"
      },
      "outputs": [
        {
          "data": {
            "text/plain": [
              "array([29.80359411, 25.05334734, 20.30310057])"
            ]
          },
          "execution_count": 39,
          "metadata": {},
          "output_type": "execute_result"
        }
      ],
      "source": [
        "new_predictions = results.get_prediction(newX);\n",
        "new_predictions.predicted_mean\n"
      ]
    },
    {
      "cell_type": "markdown",
      "id": "313c1720",
      "metadata": {
        "id": "313c1720"
      },
      "source": [
        "We can produce confidence intervals for the predicted values."
      ]
    },
    {
      "cell_type": "code",
      "execution_count": null,
      "id": "1a86b943",
      "metadata": {
        "execution": {
          "iopub.execute_input": "2024-06-04T23:19:08.051110Z",
          "iopub.status.busy": "2024-06-04T23:19:08.051038Z",
          "iopub.status.idle": "2024-06-04T23:19:08.052989Z",
          "shell.execute_reply": "2024-06-04T23:19:08.052779Z"
        },
        "lines_to_next_cell": 0,
        "id": "1a86b943",
        "outputId": "a003fe46-90b4-49c6-eac7-6cc4544ea17d"
      },
      "outputs": [
        {
          "data": {
            "text/plain": [
              "array([[29.00741194, 30.59977628],\n",
              "       [24.47413202, 25.63256267],\n",
              "       [19.73158815, 20.87461299]])"
            ]
          },
          "execution_count": 40,
          "metadata": {},
          "output_type": "execute_result"
        }
      ],
      "source": [
        "new_predictions.conf_int(alpha=0.05)\n"
      ]
    },
    {
      "cell_type": "markdown",
      "id": "3595344e",
      "metadata": {
        "id": "3595344e"
      },
      "source": [
        "Prediction intervals are computing by setting `obs=True`:"
      ]
    },
    {
      "cell_type": "code",
      "execution_count": null,
      "id": "ea9727ca",
      "metadata": {
        "execution": {
          "iopub.execute_input": "2024-06-04T23:19:08.054282Z",
          "iopub.status.busy": "2024-06-04T23:19:08.054215Z",
          "iopub.status.idle": "2024-06-04T23:19:08.056172Z",
          "shell.execute_reply": "2024-06-04T23:19:08.055964Z"
        },
        "lines_to_next_cell": 0,
        "id": "ea9727ca",
        "outputId": "71b65ddf-080f-4425-c30c-a51fb9ee5fe4"
      },
      "outputs": [
        {
          "data": {
            "text/plain": [
              "array([[17.56567478, 42.04151344],\n",
              "       [12.82762635, 37.27906833],\n",
              "       [ 8.0777421 , 32.52845905]])"
            ]
          },
          "execution_count": 41,
          "metadata": {},
          "output_type": "execute_result"
        }
      ],
      "source": [
        "new_predictions.conf_int(obs=True, alpha=0.05)\n"
      ]
    },
    {
      "cell_type": "markdown",
      "id": "b157334d",
      "metadata": {
        "id": "b157334d"
      },
      "source": [
        " For instance, the 95% confidence interval associated with an\n",
        " `lstat`  value of 10 is (24.47, 25.63), and the 95% prediction\n",
        "interval is (12.82, 37.28).  As expected, the confidence and\n",
        "prediction intervals are centered around the same point (a predicted\n",
        "value of 25.05 for  `medv`  when  `lstat`  equals\n",
        "10), but the latter are substantially wider.\n",
        "\n",
        "Next we will plot  `medv`  and  `lstat`\n",
        "using `DataFrame.plot.scatter()`, \\definelongblankMR{plot.scatter()}{plot.slashslashscatter()}\n",
        "and wish to\n",
        "add the regression line to the resulting plot."
      ]
    },
    {
      "cell_type": "markdown",
      "id": "05f5b29a",
      "metadata": {
        "id": "05f5b29a"
      },
      "source": [
        "### Defining Functions\n",
        "While there is a function\n",
        "within the `ISLP` package that adds a line to an existing plot, we take this opportunity\n",
        "to define our first function to do so."
      ]
    },
    {
      "cell_type": "code",
      "execution_count": 5,
      "id": "796c20f6",
      "metadata": {
        "execution": {
          "iopub.execute_input": "2024-06-04T23:19:08.057406Z",
          "iopub.status.busy": "2024-06-04T23:19:08.057339Z",
          "iopub.status.idle": "2024-06-04T23:19:08.059024Z",
          "shell.execute_reply": "2024-06-04T23:19:08.058807Z"
        },
        "lines_to_next_cell": 0,
        "id": "796c20f6"
      },
      "outputs": [],
      "source": [
        "def abline(ax, b, m):\n",
        "    \"Add a line with slope m and intercept b to ax\"\n",
        "    xlim = ax.get_xlim()\n",
        "    ylim = [m * xlim[0] + b, m * xlim[1] + b]\n",
        "    ax.plot(xlim, ylim)\n"
      ]
    },
    {
      "cell_type": "markdown",
      "id": "5eb99e73",
      "metadata": {
        "id": "5eb99e73"
      },
      "source": [
        " A few things are illustrated above. First we see the syntax for defining a function:\n",
        "`def funcname(...)`. The function has arguments `ax, b, m`\n",
        "where `ax` is an axis object for an exisiting plot, `b` is the intercept and\n",
        "`m` is the slope of the desired line. Other plotting  options can be passed on to\n",
        "`ax.plot` by including additional optional arguments as follows:"
      ]
    },
    {
      "cell_type": "code",
      "execution_count": 6,
      "id": "a258b8c0",
      "metadata": {
        "execution": {
          "iopub.execute_input": "2024-06-04T23:19:08.060183Z",
          "iopub.status.busy": "2024-06-04T23:19:08.060117Z",
          "iopub.status.idle": "2024-06-04T23:19:08.061624Z",
          "shell.execute_reply": "2024-06-04T23:19:08.061396Z"
        },
        "lines_to_next_cell": 0,
        "id": "a258b8c0"
      },
      "outputs": [],
      "source": [
        "def abline(ax, b, m, *args, **kwargs):\n",
        "    \"Add a line with slope m and intercept b to ax\"\n",
        "    xlim = ax.get_xlim()\n",
        "    ylim = [m * xlim[0] + b, m * xlim[1] + b]\n",
        "    ax.plot(xlim, ylim, *args, **kwargs)\n"
      ]
    },
    {
      "cell_type": "markdown",
      "id": "be8f4615",
      "metadata": {
        "id": "be8f4615"
      },
      "source": [
        "The addition of `*args` allows any number of\n",
        "non-named arguments to `abline`, while `*kwargs` allows any\n",
        "number of named arguments (such as `linewidth=3`) to `abline`.\n",
        "In our function, we pass\n",
        "these arguments verbatim to `ax.plot` above. Readers\n",
        "interested in learning more about\n",
        "functions are referred to the section on\n",
        "defining functions in [docs.python.org/tutorial](https://docs.python.org/3/tutorial/controlflow.html#defining-functions).\n",
        "\n",
        "Let’s use our new function to add this regression line to a plot of\n",
        "`medv` vs. `lstat`."
      ]
    },
    {
      "cell_type": "code",
      "execution_count": 7,
      "id": "56b75491",
      "metadata": {
        "execution": {
          "iopub.execute_input": "2024-06-04T23:19:08.062821Z",
          "iopub.status.busy": "2024-06-04T23:19:08.062745Z",
          "iopub.status.idle": "2024-06-04T23:19:08.177528Z",
          "shell.execute_reply": "2024-06-04T23:19:08.175973Z"
        },
        "lines_to_next_cell": 0,
        "id": "56b75491",
        "outputId": "e43b63e1-687e-4179-cf60-85b010e210da",
        "colab": {
          "base_uri": "https://localhost:8080/",
          "height": 211
        }
      },
      "outputs": [
        {
          "output_type": "error",
          "ename": "NameError",
          "evalue": "name 'Boston' is not defined",
          "traceback": [
            "\u001b[0;31m---------------------------------------------------------------------------\u001b[0m",
            "\u001b[0;31mNameError\u001b[0m                                 Traceback (most recent call last)",
            "\u001b[0;32m/tmp/ipython-input-1591428221.py\u001b[0m in \u001b[0;36m<cell line: 0>\u001b[0;34m()\u001b[0m\n\u001b[0;32m----> 1\u001b[0;31m \u001b[0max\u001b[0m \u001b[0;34m=\u001b[0m \u001b[0mBoston\u001b[0m\u001b[0;34m.\u001b[0m\u001b[0mplot\u001b[0m\u001b[0;34m.\u001b[0m\u001b[0mscatter\u001b[0m\u001b[0;34m(\u001b[0m\u001b[0;34m'lstat'\u001b[0m\u001b[0;34m,\u001b[0m \u001b[0;34m'medv'\u001b[0m\u001b[0;34m)\u001b[0m\u001b[0;34m\u001b[0m\u001b[0;34m\u001b[0m\u001b[0m\n\u001b[0m\u001b[1;32m      2\u001b[0m abline(ax,\n\u001b[1;32m      3\u001b[0m        \u001b[0mresults\u001b[0m\u001b[0;34m.\u001b[0m\u001b[0mparams\u001b[0m\u001b[0;34m[\u001b[0m\u001b[0;36m0\u001b[0m\u001b[0;34m]\u001b[0m\u001b[0;34m,\u001b[0m\u001b[0;34m\u001b[0m\u001b[0;34m\u001b[0m\u001b[0m\n\u001b[1;32m      4\u001b[0m        \u001b[0mresults\u001b[0m\u001b[0;34m.\u001b[0m\u001b[0mparams\u001b[0m\u001b[0;34m[\u001b[0m\u001b[0;36m1\u001b[0m\u001b[0;34m]\u001b[0m\u001b[0;34m,\u001b[0m\u001b[0;34m\u001b[0m\u001b[0;34m\u001b[0m\u001b[0m\n\u001b[1;32m      5\u001b[0m        \u001b[0;34m'r--'\u001b[0m\u001b[0;34m,\u001b[0m\u001b[0;34m\u001b[0m\u001b[0;34m\u001b[0m\u001b[0m\n",
            "\u001b[0;31mNameError\u001b[0m: name 'Boston' is not defined"
          ]
        }
      ],
      "source": [
        "ax = Boston.plot.scatter('lstat', 'medv')\n",
        "abline(ax,\n",
        "       results.params[0],\n",
        "       results.params[1],\n",
        "       'r--',\n",
        "       linewidth=3)\n"
      ]
    },
    {
      "cell_type": "markdown",
      "id": "04a1e56f",
      "metadata": {
        "id": "04a1e56f"
      },
      "source": [
        "Thus, the final call to `ax.plot()` is `ax.plot(xlim, ylim, 'r--', linewidth=3)`.\n",
        "We have used the argument `'r--'` to produce a red dashed line, and added\n",
        "an argument to make it of width 3.\n",
        "There is some evidence for non-linearity in the relationship between  `lstat`  and  `medv`. We will explore this issue later in this lab.\n",
        "\n",
        "As mentioned above, there is an existing function to add a line to a plot --- `ax.axline()` --- but knowing how to write such functions empowers us to create more expressive displays.\n",
        "\n"
      ]
    },
    {
      "cell_type": "markdown",
      "id": "1a083307",
      "metadata": {
        "id": "1a083307"
      },
      "source": [
        "Next we examine some diagnostic plots, several of which were discussed\n",
        "in Section~\\ref{Ch3:problems.sec}.\n",
        "We can find the fitted values and residuals\n",
        "of the fit as attributes of the `results` object.\n",
        "Various influence measures describing the regression model\n",
        "are computed with the `get_influence()` method.\n",
        "As we will not use the `fig` component returned\n",
        "as the first value from `subplots()`, we simply\n",
        "capture the second returned value in `ax` below."
      ]
    },
    {
      "cell_type": "code",
      "execution_count": null,
      "id": "74be2100",
      "metadata": {
        "execution": {
          "iopub.execute_input": "2024-06-04T23:19:08.180863Z",
          "iopub.status.busy": "2024-06-04T23:19:08.180691Z",
          "iopub.status.idle": "2024-06-04T23:19:08.331926Z",
          "shell.execute_reply": "2024-06-04T23:19:08.331152Z"
        },
        "lines_to_next_cell": 0,
        "id": "74be2100",
        "outputId": "41715ae7-1ac5-4f88-c264-537e91a20435"
      },
      "outputs": [
        {
          "data": {
            "image/png": "[encoded data removed]",
            "text/plain": [
              "<Figure size 800x800 with 1 Axes>"
            ]
          },
          "metadata": {},
          "output_type": "display_data"
        }
      ],
      "source": [
        "ax = subplots(figsize=(8,8))[1]\n",
        "ax.scatter(results.fittedvalues, results.resid)\n",
        "ax.set_xlabel('Fitted value')\n",
        "ax.set_ylabel('Residual')\n",
        "ax.axhline(0, c='k', ls='--');\n"
      ]
    },
    {
      "cell_type": "markdown",
      "id": "c00db5a1",
      "metadata": {
        "id": "c00db5a1"
      },
      "source": [
        " We add a horizontal line at 0 for reference using the\n",
        " `ax.axhline()`   method, indicating\n",
        "it should be black (`c='k'`) and have a dashed linestyle (`ls='--'`).\n",
        "\n",
        "On the basis of the residual plot, there is some evidence of non-linearity.\n",
        "Leverage statistics can be computed for any number of predictors using the\n",
        "`hat_matrix_diag` attribute of the value returned by the\n",
        "`get_influence()`  method."
      ]
    },
    {
      "cell_type": "code",
      "execution_count": null,
      "id": "db8bc925",
      "metadata": {
        "execution": {
          "iopub.execute_input": "2024-06-04T23:19:08.334603Z",
          "iopub.status.busy": "2024-06-04T23:19:08.334424Z",
          "iopub.status.idle": "2024-06-04T23:19:08.403949Z",
          "shell.execute_reply": "2024-06-04T23:19:08.403703Z"
        },
        "lines_to_next_cell": 0,
        "id": "db8bc925"
      },
      "outputs": [],
      "source": [
        "infl = results.get_influence()\n",
        "ax = subplots(figsize=(8,8))[1]\n",
        "ax.scatter(np.arange(X.shape[0]), infl.hat_matrix_diag)\n",
        "ax.set_xlabel('Index')\n",
        "ax.set_ylabel('Leverage')\n",
        "np.argmax(infl.hat_matrix_diag)\n"
      ]
    },
    {
      "cell_type": "markdown",
      "id": "4e7aa0bb",
      "metadata": {
        "id": "4e7aa0bb"
      },
      "source": [
        " The `np.argmax()`  function identifies the index of the largest element of an array, optionally computed over an axis of the array.\n",
        "In this case, we maximized over the entire array\n",
        "to determine which observation has the largest leverage statistic."
      ]
    },
    {
      "cell_type": "markdown",
      "id": "e98db373",
      "metadata": {
        "id": "e98db373"
      },
      "source": [
        "## Multiple Linear Regression\n",
        "In order to fit a multiple linear regression model using least squares, we again use\n",
        "the `ModelSpec()`  transform to construct the required\n",
        "model matrix and response. The arguments\n",
        "to `ModelSpec()` can be quite general, but in this case\n",
        "a list of column names suffice. We consider a fit here with\n",
        "the two variables `lstat` and `age`."
      ]
    },
    {
      "cell_type": "code",
      "execution_count": null,
      "id": "e479373c",
      "metadata": {
        "execution": {
          "iopub.execute_input": "2024-06-04T23:19:08.405606Z",
          "iopub.status.busy": "2024-06-04T23:19:08.405477Z",
          "iopub.status.idle": "2024-06-04T23:19:08.415531Z",
          "shell.execute_reply": "2024-06-04T23:19:08.415300Z"
        },
        "lines_to_next_cell": 0,
        "id": "e479373c"
      },
      "outputs": [],
      "source": [
        "X = MS(['lstat', 'age']).fit_transform(Boston)\n",
        "model1 = sm.OLS(y, X)\n",
        "results1 = model1.fit()\n",
        "summarize(results1)"
      ]
    },
    {
      "cell_type": "markdown",
      "id": "5c79b00d",
      "metadata": {
        "id": "5c79b00d"
      },
      "source": [
        "Notice how we have compacted the first line into a succinct expression describing the construction of `X`.\n",
        "\n",
        "The  `Boston`   data set contains 12 variables, and so it would be cumbersome\n",
        "to have to type all of these in order to perform a regression using all of the predictors.\n",
        "Instead, we can use the following short-hand:\\definelongblankMR{columns.drop()}{columns.slashslashdrop()}"
      ]
    },
    {
      "cell_type": "code",
      "execution_count": null,
      "id": "b903170c",
      "metadata": {
        "execution": {
          "iopub.execute_input": "2024-06-04T23:19:08.416871Z",
          "iopub.status.busy": "2024-06-04T23:19:08.416798Z",
          "iopub.status.idle": "2024-06-04T23:19:08.418929Z",
          "shell.execute_reply": "2024-06-04T23:19:08.418717Z"
        },
        "id": "b903170c"
      },
      "outputs": [],
      "source": [
        "terms = Boston.columns.drop('medv')\n",
        "terms\n"
      ]
    },
    {
      "cell_type": "markdown",
      "id": "179b7846",
      "metadata": {
        "id": "179b7846"
      },
      "source": [
        "We can now fit the model with all the variables in `terms` using\n",
        "the same model matrix builder."
      ]
    },
    {
      "cell_type": "code",
      "execution_count": null,
      "id": "bbe47670",
      "metadata": {
        "execution": {
          "iopub.execute_input": "2024-06-04T23:19:08.420168Z",
          "iopub.status.busy": "2024-06-04T23:19:08.420092Z",
          "iopub.status.idle": "2024-06-04T23:19:08.434050Z",
          "shell.execute_reply": "2024-06-04T23:19:08.433809Z"
        },
        "id": "bbe47670"
      },
      "outputs": [],
      "source": [
        "X = MS(terms).fit_transform(Boston)\n",
        "model = sm.OLS(y, X)\n",
        "results = model.fit()\n",
        "summarize(results)\n"
      ]
    },
    {
      "cell_type": "markdown",
      "id": "183c3c40",
      "metadata": {
        "id": "183c3c40"
      },
      "source": [
        "What if we would like to perform a regression using all of the variables but one?  For\n",
        "example, in the above regression output,   `age`  has a high $p$-value.\n",
        "So we may wish to run a regression excluding this predictor.\n",
        "The following syntax results in a regression using all predictors except  `age`."
      ]
    },
    {
      "cell_type": "code",
      "execution_count": null,
      "id": "a1484d00",
      "metadata": {
        "execution": {
          "iopub.execute_input": "2024-06-04T23:19:08.435432Z",
          "iopub.status.busy": "2024-06-04T23:19:08.435353Z",
          "iopub.status.idle": "2024-06-04T23:19:08.448669Z",
          "shell.execute_reply": "2024-06-04T23:19:08.448429Z"
        },
        "id": "a1484d00"
      },
      "outputs": [],
      "source": [
        "minus_age = Boston.columns.drop(['medv', 'age'])\n",
        "Xma = MS(minus_age).fit_transform(Boston)\n",
        "model1 = sm.OLS(y, Xma)\n",
        "summarize(model1.fit())\n"
      ]
    },
    {
      "cell_type": "markdown",
      "id": "74ec4654",
      "metadata": {
        "id": "74ec4654"
      },
      "source": [
        "## Multivariate Goodness of Fit\n",
        "We can access the individual components of `results` by name\n",
        "(`dir(results)` shows us what is available). Hence\n",
        "`results.rsquared` gives us the $R^2$,\n",
        "and\n",
        "`np.sqrt(results.scale)` gives us the RSE.\n",
        "\n",
        "Variance inflation factors (section~\\ref{Ch3:problems.sec}) are sometimes useful\n",
        "to assess the effect of collinearity in the model matrix of a regression model.\n",
        "We will compute the VIFs in our multiple regression fit, and use the opportunity to introduce the idea of *list comprehension*.\n",
        "\n",
        "### List Comprehension\n",
        "Often we encounter a sequence of objects which we would like to transform\n",
        "for some other task. Below, we compute the VIF for each\n",
        "feature in our `X` matrix and produce a data frame\n",
        "whose index agrees with the columns of `X`.\n",
        "The notion of list comprehension can often make such\n",
        "a task easier.\n",
        "\n",
        "List comprehensions are simple and powerful ways to form\n",
        "lists of `Python` objects. The language also supports\n",
        "dictionary and *generator* comprehension, though these are\n",
        "beyond our scope here. Let's look at an example. We compute the VIF for each of the variables\n",
        "in the model matrix `X`, using the function `variance_inflation_factor()`.\n"
      ]
    },
    {
      "cell_type": "code",
      "execution_count": 4,
      "id": "46ac946c",
      "metadata": {
        "execution": {
          "iopub.execute_input": "2024-06-04T23:19:08.449986Z",
          "iopub.status.busy": "2024-06-04T23:19:08.449918Z",
          "iopub.status.idle": "2024-06-04T23:19:08.455447Z",
          "shell.execute_reply": "2024-06-04T23:19:08.455211Z"
        },
        "lines_to_next_cell": 0,
        "id": "46ac946c",
        "outputId": "96db9ceb-5115-45fa-9f74-a72a87eed61d",
        "colab": {
          "base_uri": "https://localhost:8080/",
          "height": 211
        }
      },
      "outputs": [
        {
          "output_type": "error",
          "ename": "NameError",
          "evalue": "name 'X' is not defined",
          "traceback": [
            "\u001b[0;31m---------------------------------------------------------------------------\u001b[0m",
            "\u001b[0;31mNameError\u001b[0m                                 Traceback (most recent call last)",
            "\u001b[0;32m/tmp/ipython-input-1652608119.py\u001b[0m in \u001b[0;36m<cell line: 0>\u001b[0;34m()\u001b[0m\n\u001b[1;32m      1\u001b[0m vals = [VIF(X, i)\n\u001b[0;32m----> 2\u001b[0;31m         for i in range(1, X.shape[1])]\n\u001b[0m\u001b[1;32m      3\u001b[0m vif = pd.DataFrame({'vif':vals},\n\u001b[1;32m      4\u001b[0m                    index=X.columns[1:])\n\u001b[1;32m      5\u001b[0m \u001b[0mvif\u001b[0m\u001b[0;34m\u001b[0m\u001b[0;34m\u001b[0m\u001b[0m\n",
            "\u001b[0;31mNameError\u001b[0m: name 'X' is not defined"
          ]
        }
      ],
      "source": [
        "vals = [VIF(X, i)\n",
        "        for i in range(1, X.shape[1])]\n",
        "vif = pd.DataFrame({'vif':vals},\n",
        "                   index=X.columns[1:])\n",
        "vif\n"
      ]
    },
    {
      "cell_type": "markdown",
      "id": "45a29903",
      "metadata": {
        "id": "45a29903"
      },
      "source": [
        "The function `VIF()` takes two arguments: a dataframe or array,\n",
        "and a variable column index. In the code above we call `VIF()` on the fly for all columns in `X`.  \n",
        "We have excluded column 0 above (the intercept), which is not of interest. In this case the VIFs are not that exciting.\n",
        "\n",
        "The object `vals` above could have been constructed with the following for loop:"
      ]
    },
    {
      "cell_type": "code",
      "execution_count": null,
      "id": "b626ecb9",
      "metadata": {
        "execution": {
          "iopub.execute_input": "2024-06-04T23:19:08.456814Z",
          "iopub.status.busy": "2024-06-04T23:19:08.456747Z",
          "iopub.status.idle": "2024-06-04T23:19:08.461039Z",
          "shell.execute_reply": "2024-06-04T23:19:08.460801Z"
        },
        "lines_to_next_cell": 0,
        "id": "b626ecb9"
      },
      "outputs": [],
      "source": [
        "vals = []\n",
        "for i in range(1, X.values.shape[1]):\n",
        "    vals.append(VIF(X.values, i))\n"
      ]
    },
    {
      "cell_type": "markdown",
      "id": "6e504ae2",
      "metadata": {
        "id": "6e504ae2"
      },
      "source": [
        "List comprehension allows us to perform such repetitive operations in a more straightforward way.\n",
        "## Interaction Terms\n",
        "It is easy to include interaction terms in a linear model using `ModelSpec()`.\n",
        "Including a tuple `(\"lstat\",\"age\")` tells the model\n",
        "matrix builder to include an interaction term between\n",
        " `lstat`  and  `age`."
      ]
    },
    {
      "cell_type": "code",
      "execution_count": null,
      "id": "8bf77477",
      "metadata": {
        "execution": {
          "iopub.execute_input": "2024-06-04T23:19:08.462456Z",
          "iopub.status.busy": "2024-06-04T23:19:08.462383Z",
          "iopub.status.idle": "2024-06-04T23:19:08.473081Z",
          "shell.execute_reply": "2024-06-04T23:19:08.472857Z"
        },
        "lines_to_next_cell": 2,
        "id": "8bf77477"
      },
      "outputs": [],
      "source": [
        "X = MS(['lstat',\n",
        "        'age',\n",
        "        ('lstat', 'age')]).fit_transform(Boston)\n",
        "model2 = sm.OLS(y, X)\n",
        "summarize(model2.fit())\n"
      ]
    },
    {
      "cell_type": "markdown",
      "id": "e2323ab9",
      "metadata": {
        "id": "e2323ab9"
      },
      "source": [
        "## Non-linear Transformations of the Predictors\n",
        "The model matrix builder can include terms beyond\n",
        "just column names and interactions. For instance,\n",
        "the `poly()` function supplied in `ISLP` specifies that\n",
        "columns representing polynomial functions\n",
        "of its first argument are added to the model matrix."
      ]
    },
    {
      "cell_type": "code",
      "execution_count": null,
      "id": "6289c3cb",
      "metadata": {
        "execution": {
          "iopub.execute_input": "2024-06-04T23:19:08.474420Z",
          "iopub.status.busy": "2024-06-04T23:19:08.474348Z",
          "iopub.status.idle": "2024-06-04T23:19:08.484309Z",
          "shell.execute_reply": "2024-06-04T23:19:08.484088Z"
        },
        "lines_to_next_cell": 0,
        "id": "6289c3cb"
      },
      "outputs": [],
      "source": [
        "X = MS([poly('lstat', degree=2), 'age']).fit_transform(Boston)\n",
        "model3 = sm.OLS(y, X)\n",
        "results3 = model3.fit()\n",
        "summarize(results3)\n"
      ]
    },
    {
      "cell_type": "markdown",
      "id": "2bd67b14",
      "metadata": {
        "id": "2bd67b14"
      },
      "source": [
        "The effectively zero *p*-value associated with the quadratic term\n",
        "(i.e. the third row above) suggests that it leads to an improved model.\n",
        "\n",
        "By default, `poly()` creates a basis matrix for inclusion in the\n",
        "model matrix whose\n",
        "columns are *orthogonal polynomials*, which are designed for stable\n",
        "least squares computations. {Actually, `poly()` is a  wrapper for the workhorse and standalone  function `Poly()` that does the  work in building the model matrix.}\n",
        "Alternatively, had we included an argument\n",
        "`raw=True` in the above call to `poly()`, the basis matrix would consist simply of\n",
        "`lstat` and `lstat**2`. Since either of these bases\n",
        "represent quadratic polynomials, the fitted values  would not\n",
        "change in this case, just the polynomial coefficients.  Also by default, the columns\n",
        "created by `poly()` do not include an intercept column as\n",
        "that is automatically added by `MS()`.\n",
        "\n",
        "We use the `anova_lm()` function to further quantify the extent to which the quadratic fit is\n",
        "superior to the linear fit."
      ]
    },
    {
      "cell_type": "code",
      "execution_count": null,
      "id": "b6542ac6",
      "metadata": {
        "execution": {
          "iopub.execute_input": "2024-06-04T23:19:08.485627Z",
          "iopub.status.busy": "2024-06-04T23:19:08.485562Z",
          "iopub.status.idle": "2024-06-04T23:19:08.489875Z",
          "shell.execute_reply": "2024-06-04T23:19:08.489670Z"
        },
        "lines_to_next_cell": 0,
        "id": "b6542ac6"
      },
      "outputs": [],
      "source": [
        "anova_lm(results1, results3)\n"
      ]
    },
    {
      "cell_type": "markdown",
      "id": "3685159a",
      "metadata": {
        "id": "3685159a"
      },
      "source": [
        "Here `results1` represents the linear submodel containing\n",
        "predictors `lstat` and `age`,\n",
        "while `results3` corresponds to the larger model above  with a quadratic\n",
        "term in `lstat`.\n",
        "The `anova_lm()` function performs a hypothesis test\n",
        "comparing the two models. The null hypothesis is that the quadratic\n",
        "term in the bigger model is not needed, and the alternative hypothesis is that the\n",
        "bigger model is superior. Here the *F*-statistic is 177.28 and\n",
        "the associated *p*-value is zero.\n",
        "In this case the *F*-statistic is the square of the\n",
        "*t*-statistic for the quadratic term in the linear model summary\n",
        "for `results3` --- a consequence of the fact that these nested\n",
        "models differ by one degree of freedom.\n",
        "This provides very clear evidence that the quadratic polynomial in\n",
        "`lstat` improves the linear model.\n",
        "This is not surprising, since earlier we saw evidence for non-linearity in the relationship between `medv`\n",
        "and  `lstat`.\n",
        "\n",
        "The function `anova_lm()` can take more than two nested models\n",
        "as input, in which case it compares every successive pair of models.\n",
        "That also explains why their are `NaN`s in the first row above, since\n",
        "there is no previous model with which to compare the first.\n"
      ]
    },
    {
      "cell_type": "code",
      "execution_count": null,
      "id": "8e4c6004",
      "metadata": {
        "execution": {
          "iopub.execute_input": "2024-06-04T23:19:08.491175Z",
          "iopub.status.busy": "2024-06-04T23:19:08.491086Z",
          "iopub.status.idle": "2024-06-04T23:19:08.560976Z",
          "shell.execute_reply": "2024-06-04T23:19:08.560698Z"
        },
        "lines_to_next_cell": 0,
        "id": "8e4c6004"
      },
      "outputs": [],
      "source": [
        "ax = subplots(figsize=(8,8))[1]\n",
        "ax.scatter(results3.fittedvalues, results3.resid)\n",
        "ax.set_xlabel('Fitted value')\n",
        "ax.set_ylabel('Residual')\n",
        "ax.axhline(0, c='k', ls='--');\n"
      ]
    },
    {
      "cell_type": "markdown",
      "id": "3c7e0661",
      "metadata": {
        "id": "3c7e0661"
      },
      "source": [
        "We see that when the quadratic term is included in the model,\n",
        "there is little discernible pattern in the residuals.\n",
        "In order to create a cubic or higher-degree polynomial fit, we can simply change the degree argument\n",
        "to `poly()`.\n"
      ]
    },
    {
      "cell_type": "markdown",
      "id": "46a4967d",
      "metadata": {
        "id": "46a4967d"
      },
      "source": [
        "## Qualitative Predictors\n",
        "Here we use the  `Carseats`  data, which is included in the\n",
        "`ISLP` package. We will  attempt to predict `Sales`\n",
        "(child car seat sales) in 400 locations based on a number of\n",
        "predictors."
      ]
    },
    {
      "cell_type": "code",
      "execution_count": 3,
      "id": "a83f4bd2",
      "metadata": {
        "execution": {
          "iopub.execute_input": "2024-06-04T23:19:08.562367Z",
          "iopub.status.busy": "2024-06-04T23:19:08.562269Z",
          "iopub.status.idle": "2024-06-04T23:19:08.565879Z",
          "shell.execute_reply": "2024-06-04T23:19:08.565674Z"
        },
        "lines_to_next_cell": 0,
        "id": "a83f4bd2",
        "outputId": "0beefed0-df70-47e2-8870-cbba32b69bd6",
        "colab": {
          "base_uri": "https://localhost:8080/",
          "height": 158
        }
      },
      "outputs": [
        {
          "output_type": "error",
          "ename": "NameError",
          "evalue": "name 'load_data' is not defined",
          "traceback": [
            "\u001b[0;31m---------------------------------------------------------------------------\u001b[0m",
            "\u001b[0;31mNameError\u001b[0m                                 Traceback (most recent call last)",
            "\u001b[0;32m/tmp/ipython-input-296884030.py\u001b[0m in \u001b[0;36m<cell line: 0>\u001b[0;34m()\u001b[0m\n\u001b[0;32m----> 1\u001b[0;31m \u001b[0mCarseats\u001b[0m \u001b[0;34m=\u001b[0m \u001b[0mload_data\u001b[0m\u001b[0;34m(\u001b[0m\u001b[0;34m'Carseats'\u001b[0m\u001b[0;34m)\u001b[0m\u001b[0;34m\u001b[0m\u001b[0;34m\u001b[0m\u001b[0m\n\u001b[0m\u001b[1;32m      2\u001b[0m \u001b[0mCarseats\u001b[0m\u001b[0;34m.\u001b[0m\u001b[0mcolumns\u001b[0m\u001b[0;34m\u001b[0m\u001b[0;34m\u001b[0m\u001b[0m\n",
            "\u001b[0;31mNameError\u001b[0m: name 'load_data' is not defined"
          ]
        }
      ],
      "source": [
        "Carseats = load_data('Carseats')\n",
        "Carseats.columns\n"
      ]
    },
    {
      "cell_type": "markdown",
      "id": "69025ecd",
      "metadata": {
        "id": "69025ecd"
      },
      "source": [
        "The `Carseats`  \n",
        " data includes qualitative predictors such as\n",
        " `ShelveLoc`, an indicator of the quality of the shelving\n",
        " location --- that is,\n",
        "the  space within a store in which the car seat is displayed. The predictor\n",
        " `ShelveLoc`  takes on three possible values, `Bad`, `Medium`, and `Good`.\n",
        "Given a qualitative variable such as  `ShelveLoc`, `ModelSpec()` generates dummy\n",
        "variables automatically.\n",
        "These variables are often referred to as a *one-hot encoding* of the categorical\n",
        "feature. Their columns sum to one, so to avoid collinearity with an intercept, the first column is dropped. Below we see\n",
        "the column `ShelveLoc[Bad]` has been dropped, since `Bad` is the first level of `ShelveLoc`.\n",
        "Below we fit a multiple regression model that includes some interaction terms."
      ]
    },
    {
      "cell_type": "code",
      "execution_count": 2,
      "id": "24efc6f1",
      "metadata": {
        "execution": {
          "iopub.execute_input": "2024-06-04T23:19:08.567067Z",
          "iopub.status.busy": "2024-06-04T23:19:08.566984Z",
          "iopub.status.idle": "2024-06-04T23:19:08.585971Z",
          "shell.execute_reply": "2024-06-04T23:19:08.585717Z"
        },
        "lines_to_next_cell": 0,
        "id": "24efc6f1",
        "outputId": "13755974-7dd0-44ac-e2fc-b68369ee7433",
        "colab": {
          "base_uri": "https://localhost:8080/",
          "height": 211
        }
      },
      "outputs": [
        {
          "output_type": "error",
          "ename": "NameError",
          "evalue": "name 'Carseats' is not defined",
          "traceback": [
            "\u001b[0;31m---------------------------------------------------------------------------\u001b[0m",
            "\u001b[0;31mNameError\u001b[0m                                 Traceback (most recent call last)",
            "\u001b[0;32m/tmp/ipython-input-3173197970.py\u001b[0m in \u001b[0;36m<cell line: 0>\u001b[0;34m()\u001b[0m\n\u001b[0;32m----> 1\u001b[0;31m \u001b[0mallvars\u001b[0m \u001b[0;34m=\u001b[0m \u001b[0mlist\u001b[0m\u001b[0;34m(\u001b[0m\u001b[0mCarseats\u001b[0m\u001b[0;34m.\u001b[0m\u001b[0mcolumns\u001b[0m\u001b[0;34m.\u001b[0m\u001b[0mdrop\u001b[0m\u001b[0;34m(\u001b[0m\u001b[0;34m'Sales'\u001b[0m\u001b[0;34m)\u001b[0m\u001b[0;34m)\u001b[0m\u001b[0;34m\u001b[0m\u001b[0;34m\u001b[0m\u001b[0m\n\u001b[0m\u001b[1;32m      2\u001b[0m \u001b[0my\u001b[0m \u001b[0;34m=\u001b[0m \u001b[0mCarseats\u001b[0m\u001b[0;34m[\u001b[0m\u001b[0;34m'Sales'\u001b[0m\u001b[0;34m]\u001b[0m\u001b[0;34m\u001b[0m\u001b[0;34m\u001b[0m\u001b[0m\n\u001b[1;32m      3\u001b[0m final = allvars + [('Income', 'Advertising'),\n\u001b[1;32m      4\u001b[0m                    ('Price', 'Age')]\n\u001b[1;32m      5\u001b[0m \u001b[0mX\u001b[0m \u001b[0;34m=\u001b[0m \u001b[0mMS\u001b[0m\u001b[0;34m(\u001b[0m\u001b[0mfinal\u001b[0m\u001b[0;34m)\u001b[0m\u001b[0;34m.\u001b[0m\u001b[0mfit_transform\u001b[0m\u001b[0;34m(\u001b[0m\u001b[0mCarseats\u001b[0m\u001b[0;34m)\u001b[0m\u001b[0;34m\u001b[0m\u001b[0;34m\u001b[0m\u001b[0m\n",
            "\u001b[0;31mNameError\u001b[0m: name 'Carseats' is not defined"
          ]
        }
      ],
      "source": [
        "allvars = list(Carseats.columns.drop('Sales'))\n",
        "y = Carseats['Sales']\n",
        "final = allvars + [('Income', 'Advertising'),\n",
        "                   ('Price', 'Age')]\n",
        "X = MS(final).fit_transform(Carseats)\n",
        "model = sm.OLS(y, X)\n",
        "summarize(model.fit())\n"
      ]
    },
    {
      "cell_type": "markdown",
      "id": "a8a76419",
      "metadata": {
        "id": "a8a76419"
      },
      "source": [
        "In the first line above, we made `allvars` a list, so that we\n",
        "could add the interaction terms two lines down.\n",
        "Our model-matrix builder has created a `ShelveLoc[Good]`\n",
        "dummy variable that takes on a value of 1 if the\n",
        "shelving location is good, and 0 otherwise. It has also created a `ShelveLoc[Medium]`\n",
        "dummy variable that equals 1 if the shelving location is medium, and 0 otherwise.\n",
        "A bad shelving location corresponds to a zero for each of the two dummy variables.\n",
        "The fact that the coefficient for `ShelveLoc[Good]` in the regression output is\n",
        "positive indicates that a good shelving location is associated with high sales (relative to a bad location).\n",
        "And `ShelveLoc[Medium]` has a smaller positive coefficient,\n",
        "indicating that a medium shelving location leads to higher sales than a bad\n",
        "shelving location, but lower sales than a good shelving location.\n",
        "\n"
      ]
    }
  ],
  "metadata": {
    "jupytext": {
      "cell_metadata_filter": "-all",
      "main_language": "python",
      "notebook_metadata_filter": "-all"
    },
    "kernelspec": {
      "display_name": "myenv",
      "language": "python",
      "name": "myenv"
    },
    "language_info": {
      "codemirror_mode": {
        "name": "ipython",
        "version": 3
      },
      "file_extension": ".py",
      "mimetype": "text/x-python",
      "name": "python",
      "nbconvert_exporter": "python",
      "pygments_lexer": "ipython3",
      "version": "3.7.7"
    },
    "colab": {
      "provenance": []
    }
  },
  "nbformat": 4,
  "nbformat_minor": 5
}